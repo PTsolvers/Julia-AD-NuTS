{
 "cells": [
  {
   "cell_type": "markdown",
   "source": [
    "# GPU perftest 2D\n",
    "\n",
    "Load modules"
   ],
   "metadata": {}
  },
  {
   "outputs": [],
   "cell_type": "code",
   "source": [
    "using CUDA\n",
    "using BenchmarkTools"
   ],
   "metadata": {},
   "execution_count": null
  },
  {
   "cell_type": "markdown",
   "source": [
    "FD derivatives macros"
   ],
   "metadata": {}
  },
  {
   "outputs": [],
   "cell_type": "code",
   "source": [
    "macro d2_xi(A) esc(:(($A[ix+2, iy+1] - $A[ix+1, iy+1]) - ($A[ix+1, iy+1] - $A[ix, iy+1]))) end\n",
    "macro d2_yi(A) esc(:(($A[ix+1, iy+2] - $A[ix+1, iy+1]) - ($A[ix+1, iy+1] - $A[ix+1, iy]))) end\n",
    "macro inn(A)  esc(:($A[ix+1, iy+1])) end"
   ],
   "metadata": {},
   "execution_count": null
  },
  {
   "cell_type": "markdown",
   "source": [
    "Laplacian or diffusion step function"
   ],
   "metadata": {}
  },
  {
   "outputs": [],
   "cell_type": "code",
   "source": [
    "function diffusion_step!(C2, C, D, dt, _dx, _dy)\n",
    "    ix = (blockIdx().x - 1) * blockDim().x + threadIdx().x\n",
    "    iy = (blockIdx().y - 1) * blockDim().y + threadIdx().y\n",
    "    if (ix <= size(C, 1) - 2 && iy <= size(C, 2) - 2)\n",
    "        @inbounds @inn(C2) = @inn(C) + dt * @inn(D) * (@d2_xi(C) * _dx * _dx + @d2_yi(C) * _dy * _dy)\n",
    "    end\n",
    "    return\n",
    "end"
   ],
   "metadata": {},
   "execution_count": null
  },
  {
   "cell_type": "markdown",
   "source": [
    "Performance test \"lab\""
   ],
   "metadata": {}
  },
  {
   "outputs": [],
   "cell_type": "code",
   "source": [
    "function perftest()\n",
    "    nx = ny = 512 * 64\n",
    "    C  = CUDA.rand(Float64, nx, ny)\n",
    "    D  = CUDA.rand(Float64, nx, ny)\n",
    "    _dx = _dy = dt = rand()\n",
    "    C2 = copy(C)\n",
    "    nthreads = (16, 16)\n",
    "    nblocks  = cld.((nx, ny), nthreads)\n",
    "    t_it = @belapsed begin\n",
    "        CUDA.@sync @cuda threads=$nthreads blocks=$nblocks diffusion_step!($C2, $C, $D, $dt, $_dx, $_dy)\n",
    "    end\n",
    "    T_eff = (2 * 1 + 1) / 1e9 * nx * ny * sizeof(Float64) / t_it\n",
    "    println(\"T_eff = $(T_eff) GiB/s using CUDA.jl on a Nvidia Tesla A100 GPU\")\n",
    "    println(\"So that's cool. We are getting close to hardware limit, running at $(T_eff/1355*100), sigdigits=2) % of memory copy! 🚀\")\n",
    "    return\n",
    "end"
   ],
   "metadata": {},
   "execution_count": null
  },
  {
   "cell_type": "markdown",
   "source": [
    "Run the perf test"
   ],
   "metadata": {}
  },
  {
   "outputs": [],
   "cell_type": "code",
   "source": [
    "perftest()"
   ],
   "metadata": {},
   "execution_count": null
  }
 ],
 "nbformat_minor": 3,
 "metadata": {
  "language_info": {
   "file_extension": ".jl",
   "mimetype": "application/julia",
   "name": "julia",
   "version": "1.10.3"
  },
  "kernelspec": {
   "name": "julia-1.10",
   "display_name": "Julia 1.10.3",
   "language": "julia"
  }
 },
 "nbformat": 4
}
